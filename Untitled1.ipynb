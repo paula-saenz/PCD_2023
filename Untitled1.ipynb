{
 "cells": [
  {
   "cell_type": "markdown",
   "id": "3e5f7df8-961b-4de3-b58c-dbd4270ff2a3",
   "metadata": {},
   "source": [
    "# sockets  (comunicación entre 2 programas independientes)"
   ]
  },
  {
   "cell_type": "code",
   "execution_count": null,
   "id": "c30334b1-444a-4a5a-9c4f-a830ac2612a7",
   "metadata": {},
   "outputs": [],
   "source": [
    "from "
   ]
  }
 ],
 "metadata": {
  "kernelspec": {
   "display_name": "Python 3 (ipykernel)",
   "language": "python",
   "name": "python3"
  },
  "language_info": {
   "codemirror_mode": {
    "name": "ipython",
    "version": 3
   },
   "file_extension": ".py",
   "mimetype": "text/x-python",
   "name": "python",
   "nbconvert_exporter": "python",
   "pygments_lexer": "ipython3",
   "version": "3.12.0"
  }
 },
 "nbformat": 4,
 "nbformat_minor": 5
}
