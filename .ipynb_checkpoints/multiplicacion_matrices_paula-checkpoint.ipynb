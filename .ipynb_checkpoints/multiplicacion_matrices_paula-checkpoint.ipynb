{
 "cells": [
  {
   "cell_type": "markdown",
   "id": "c6a220c0-b622-4fa4-bacb-913b1975d60f",
   "metadata": {},
   "source": [
    "# Generar una matriz A que tenga 300x300 que dentro tiene numeros aleatorios de 0 a 218. "
   ]
  },
  {
   "cell_type": "code",
   "execution_count": 7,
   "id": "b8dfa564-1b71-4aa1-8ba1-74569cad848c",
   "metadata": {},
   "outputs": [],
   "source": [
    "import random as rd"
   ]
  },
  {
   "cell_type": "markdown",
   "id": "df809064-33de-4191-8753-3d7ad900af46",
   "metadata": {},
   "source": [
    "### Compression list\n",
    "### i=columnas, j=filas"
   ]
  },
  {
   "cell_type": "markdown",
   "id": "f05dae6b-9af2-421b-838d-11cdfe663a20",
   "metadata": {},
   "source": [
    "### casteamos a int, para poder redimensionar las matrices"
   ]
  },
  {
   "cell_type": "code",
   "execution_count": 23,
   "id": "179d9335-256c-4708-8368-cfaf0479e09d",
   "metadata": {},
   "outputs": [
    {
     "name": "stdin",
     "output_type": "stream",
     "text": [
      "Ingrese las fila de la matriz A: 40\n"
     ]
    }
   ],
   "source": [
    "fila_a = int(input(\"Ingrese las fila de la matriz A:\"))"
   ]
  },
  {
   "cell_type": "code",
   "execution_count": 24,
   "id": "161e7d6f-32e0-4921-9cf7-326b35d49d8a",
   "metadata": {},
   "outputs": [
    {
     "name": "stdin",
     "output_type": "stream",
     "text": [
      "Ingrese las columnas de la matriz A: 6\n"
     ]
    }
   ],
   "source": [
    "columna_a = int(input(\"Ingrese las columnas de la matriz A:\"))"
   ]
  },
  {
   "cell_type": "code",
   "execution_count": 10,
   "id": "1d432a4e-cb49-4854-9ec4-173295c3fb40",
   "metadata": {},
   "outputs": [],
   "source": [
    "A = [[rd.randint(0,219) for i in range(columna_a)] for j in range(fila_a)]"
   ]
  },
  {
   "cell_type": "code",
   "execution_count": 30,
   "id": "91785588-2be4-4a31-a43b-61b92bfff170",
   "metadata": {},
   "outputs": [
    {
     "name": "stdin",
     "output_type": "stream",
     "text": [
      "Ingrese las filas de la matriz B: 20\n"
     ]
    }
   ],
   "source": [
    "fila_b = int(input(\"Ingrese las filas de la matriz B:\"))"
   ]
  },
  {
   "cell_type": "code",
   "execution_count": 31,
   "id": "ffa217a2-63b0-4000-b628-276f91d5ac0c",
   "metadata": {},
   "outputs": [
    {
     "name": "stdin",
     "output_type": "stream",
     "text": [
      "Ingrese las columnas de la matriz B: 6\n"
     ]
    }
   ],
   "source": [
    "columna_b = int(input(\"Ingrese las columnas de la matriz B:\"))"
   ]
  },
  {
   "cell_type": "code",
   "execution_count": 32,
   "id": "4d3f5051-4fb5-4621-af03-e9806fcc958b",
   "metadata": {},
   "outputs": [],
   "source": [
    "B = [[rd.randint(0,219) for i in range(columna_b)] for j in range(fila_b)]"
   ]
  },
  {
   "cell_type": "markdown",
   "id": "e0cbc0ae-a5b3-4130-826b-325aba14bdd5",
   "metadata": {},
   "source": [
    "### validar que las matrices se pueden multiplicar"
   ]
  },
  {
   "cell_type": "code",
   "execution_count": 33,
   "id": "1d46328c-a70d-4d73-b60a-6123fe2bcc86",
   "metadata": {},
   "outputs": [
    {
     "name": "stdout",
     "output_type": "stream",
     "text": [
      "Se pueden multiplicar\n"
     ]
    }
   ],
   "source": [
    "if(len(A[0]) == len(B)):\n",
    "    #meter la multiplicacion\n",
    "    print(\"Se pueden multiplicar\")\n",
    "else:\n",
    "    print(\"No se pueden multiplicar, vuelve a meter dimensiones\")"
   ]
  },
  {
   "cell_type": "code",
   "execution_count": 34,
   "id": "8eb6f6c9-5c28-4d9f-8d72-eb072f79512c",
   "metadata": {},
   "outputs": [
    {
     "name": "stdout",
     "output_type": "stream",
     "text": [
      "Las nuevas dimensiones introducidas de la matriz A son: 40x6\n",
      "Las nuevas dimensiones introducidas de la matriz A son: 20x6\n"
     ]
    }
   ],
   "source": [
    "print('Las nuevas dimensiones introducidas de la matriz A son: ' + str(fila_a) + \"x\"+ str(columna_a))\n",
    "print('Las nuevas dimensiones introducidas de la matriz A son: ' + str(fila_b) + \"x\"+ str(columna_b))"
   ]
  },
  {
   "cell_type": "markdown",
   "id": "4869e097-e200-4720-89dd-93ef66adf0fe",
   "metadata": {},
   "source": [
    "## Multiplicamos:"
   ]
  },
  {
   "cell_type": "code",
   "execution_count": 35,
   "id": "04838316-c65f-43c0-90b2-7ac9cac53044",
   "metadata": {},
   "outputs": [],
   "source": [
    "def mult_matrices(m_A,m_B):\n",
    "    fila_a = len(m_A)\n",
    "    columna_a = len(m_A[0])\n",
    "    columna_b = len(m_B[0])\n",
    "    C = [[0 for _ in range(columna_b)]for _ in range(fila_a)]\n",
    "    \n",
    "    for i in range (fila_a):\n",
    "        for j in range (columna_b):\n",
    "            for k in range (columna_a):\n",
    "                C[i][j] += m_A[i][k] * m_B[k][j]\n",
    "    print(C)"
   ]
  },
  {
   "cell_type": "code",
   "execution_count": 17,
   "id": "c586f969-6bbe-4402-83d5-f2a79c491295",
   "metadata": {},
   "outputs": [
    {
     "name": "stdout",
     "output_type": "stream",
     "text": [
      "[[268148, 319791, 320897, 291739, 236908, 329202, 292848, 229216, 234114, 307071, 329985, 328586, 283403, 267218, 301091, 243508, 279441, 262478, 202623, 344109], [279312, 311662, 274520, 246077, 222738, 278944, 282661, 206804, 242697, 304894, 321206, 295082, 226554, 274714, 234965, 224269, 295637, 210353, 192482, 328171], [264330, 327302, 330271, 291480, 212844, 306399, 265177, 225790, 256804, 297915, 308965, 311374, 290687, 264941, 263751, 203428, 288059, 269858, 197747, 320264], [266827, 285184, 251360, 250603, 223501, 272919, 236741, 212636, 199702, 303430, 307823, 266046, 253465, 260834, 226664, 209907, 270905, 200822, 193329, 335033], [221242, 288476, 254685, 229257, 154183, 281012, 227584, 204230, 228985, 276764, 246701, 244185, 255353, 249892, 215597, 205347, 282513, 242983, 192653, 287294], [268780, 339119, 283312, 235723, 187258, 294606, 246417, 194796, 246442, 300793, 310906, 306059, 285870, 279492, 234580, 220139, 339128, 233350, 178149, 334626], [128081, 217286, 204873, 170632, 119662, 202540, 131128, 146260, 139931, 189096, 190089, 216567, 187274, 183324, 155447, 121418, 197755, 175242, 90013, 204512], [248473, 308580, 262636, 242662, 233421, 263350, 257629, 176242, 202255, 290274, 310549, 278483, 210255, 264825, 235061, 205390, 253832, 202517, 163582, 283375], [268325, 282648, 271761, 223467, 173191, 251730, 228784, 191862, 229266, 289065, 292955, 223190, 250011, 253153, 186788, 177615, 270462, 211700, 201397, 291331], [258081, 296700, 249114, 240026, 178624, 267433, 211858, 188346, 223798, 284510, 271146, 247626, 251452, 258363, 223496, 186823, 289584, 224682, 176282, 329252], [222015, 253600, 245679, 224174, 176619, 273500, 235850, 204768, 166467, 234254, 231660, 259115, 190925, 229494, 232004, 191577, 212353, 187490, 183624, 291187], [267283, 330144, 323313, 298512, 234570, 344890, 293348, 240742, 206380, 304908, 285995, 326562, 262169, 267180, 311704, 261378, 262394, 249436, 213982, 364747], [224057, 199557, 222147, 241671, 159074, 250622, 227406, 167975, 202539, 255733, 208733, 196306, 219979, 206027, 257255, 211205, 196400, 233873, 167527, 295059], [204813, 259900, 237559, 219019, 182304, 281660, 219700, 187655, 176204, 266120, 282566, 235708, 274731, 237418, 228268, 201464, 248387, 199556, 197932, 274393], [319868, 329923, 321141, 302078, 238659, 317631, 278748, 224427, 283224, 367084, 365059, 339296, 324773, 306496, 302798, 242670, 328671, 290440, 211398, 392087], [263718, 337965, 315413, 282064, 235639, 335356, 251523, 254948, 192873, 323185, 312848, 306471, 296512, 266917, 260789, 263187, 277165, 261104, 211711, 321479], [212657, 231769, 231713, 196004, 165618, 258184, 164019, 205197, 165606, 235652, 252763, 250473, 206899, 191632, 187992, 204690, 212212, 208736, 158873, 240778], [316422, 356789, 350639, 326278, 195425, 346340, 302134, 249534, 292265, 342989, 289978, 304121, 307120, 273961, 281256, 290270, 330420, 325433, 230084, 361370], [211078, 260869, 252004, 219168, 162397, 252567, 239108, 192927, 188766, 243524, 223725, 265140, 230369, 225960, 213689, 195809, 250483, 202324, 148046, 287555], [218576, 247279, 229118, 220992, 154428, 228612, 195247, 179782, 182869, 235502, 231541, 214020, 203430, 220896, 214512, 159510, 210053, 232720, 171116, 270471]]\n"
     ]
    }
   ],
   "source": [
    "mult_matrices(A,B)"
   ]
  },
  {
   "cell_type": "markdown",
   "id": "719e68e4-5947-4136-964a-198dcec972b0",
   "metadata": {},
   "source": [
    "# Multiplicacion paralela, un \"Con todos Tus cores\""
   ]
  },
  {
   "cell_type": "code",
   "execution_count": 36,
   "id": "2617ca25-5462-417a-b0cb-c9fa1f5dbba8",
   "metadata": {},
   "outputs": [],
   "source": [
    "import multiprocessing as mp"
   ]
  },
  {
   "cell_type": "code",
   "execution_count": 41,
   "id": "918903b0-132c-4672-928c-09aa08d6beec",
   "metadata": {},
   "outputs": [],
   "source": [
    "import math, time"
   ]
  },
  {
   "cell_type": "code",
   "execution_count": 38,
   "id": "88439e4f-79f4-4db9-8f0e-e591e609a172",
   "metadata": {},
   "outputs": [],
   "source": [
    "cores = mp.cpu_count()"
   ]
  },
  {
   "cell_type": "code",
   "execution_count": 39,
   "id": "81b690aa-a4fa-4af7-9641-fbdbb3ecbf6b",
   "metadata": {},
   "outputs": [
    {
     "name": "stdout",
     "output_type": "stream",
     "text": [
      "8\n"
     ]
    }
   ],
   "source": [
    "print(cores)"
   ]
  },
  {
   "cell_type": "code",
   "execution_count": 55,
   "id": "81015d78-443e-4c1b-889d-50dbbeda3066",
   "metadata": {},
   "outputs": [],
   "source": [
    "def par_mult(A, B):\n",
    "    num_cores=mp.cpu_count()\n",
    "    size_col = (columna_b/num_cores)\n",
    "    size_fil = (fila_a/num_cores) \n",
    "    MC = mp.RawArray('i', fila_a*columna_b)\n",
    "    cores = []\n",
    "    for core in range(num_cores):\n",
    "        i_MC= min(core*size_fil, fila_a)\n",
    "        f_MC= min((core+1)*size_fil, fila_a)\n",
    "        cores.append(mp.Process(target = par_core, args=(A,B,MC,i_MC,f_MC)))\n",
    "    for core in cores:\n",
    "        core.start()\n",
    "    for core in cores:\n",
    "        core.join()\n",
    "    C_2D = [[0]*columna_b for i in range (fila_a)]\n",
    "    for i in range (fila_a):\n",
    "        for j in range (columna_b):\n",
    "            C_2D[i][j] = MC[i*columna_b+j]\n",
    "    return C_2D\n",
    "    "
   ]
  },
  {
   "cell_type": "markdown",
   "id": "7a4f5563-7c6d-4378-a896-663a0525bf8e",
   "metadata": {},
   "source": [
    "# Par core"
   ]
  },
  {
   "cell_type": "code",
   "execution_count": 56,
   "id": "583aab8c-d367-4bdd-b75b-e9baa186e03b",
   "metadata": {},
   "outputs": [],
   "source": [
    "def par_core(A,B,MC,i_MC,f_MC):\n",
    "    for i in range (i_MC, f_MC):\n",
    "        for k in range(len(A[0])):\n",
    "            MC[i*len(B[0])+j] += A[i][k]*B[k][j]"
   ]
  },
  {
   "cell_type": "code",
   "execution_count": 57,
   "id": "3d498297-0b13-44f1-9647-930c07d92d50",
   "metadata": {},
   "outputs": [
    {
     "data": {
      "text/plain": [
       "5.0"
      ]
     },
     "execution_count": 57,
     "metadata": {},
     "output_type": "execute_result"
    }
   ],
   "source": [
    "fila_a/cores"
   ]
  },
  {
   "cell_type": "code",
   "execution_count": 59,
   "id": "ec83c75b-1d06-4282-ba48-313ae842658f",
   "metadata": {},
   "outputs": [
    {
     "name": "stdout",
     "output_type": "stream",
     "text": [
      "[[186600, 255152, 272719, 330407, 225728, 308733], [168911, 266783, 267835, 287453, 243329, 310192], [192820, 260773, 230376, 318181, 213753, 315495], [180446, 294142, 281659, 251978, 189149, 293379], [178173, 238135, 242162, 285253, 220005, 304863], [198602, 273461, 251017, 293928, 220863, 308384], [136127, 164945, 154354, 184811, 120970, 163706], [184396, 215324, 211746, 239563, 217592, 286597], [184742, 265342, 260510, 252139, 198454, 303984], [194628, 291637, 251752, 231330, 171705, 286809], [160237, 242221, 211049, 228816, 191751, 263544], [198488, 273249, 303333, 294698, 221718, 330540], [157721, 233301, 247804, 246289, 190566, 294992], [166546, 223650, 229068, 279799, 197249, 282167], [208341, 322467, 299811, 329485, 227248, 364867], [233188, 263524, 305199, 311490, 218564, 325213], [166085, 228946, 266951, 259813, 178017, 248599], [228997, 310260, 345774, 357600, 261305, 396406], [155008, 215248, 190724, 261922, 195054, 244557], [170887, 217291, 181961, 223498, 169166, 251294]]\n",
      "Matriz A y B se han multiplicado con éxito\n",
      "En secuencial ha tardado:0.0035109519958496094\n",
      "En paralelo ha tardado: 0.17995190620422363\n"
     ]
    }
   ],
   "source": [
    "inicioS = time.time()\n",
    "mult_matrices(A,B)\n",
    "finS = time.time()\n",
    "\n",
    "inicioP = time.time()\n",
    "par_mult(A,B)\n",
    "finP = time.time()\n",
    "\n",
    "print('Matriz A y B se han multiplicado con éxito')\n",
    "print('En secuencial ha tardado:'  + str(finS-inicioS))\n",
    "print('En paralelo ha tardado: ' + str(finP-inicioP))"
   ]
  },
  {
   "cell_type": "code",
   "execution_count": null,
   "id": "6b03c0f6-b69d-4f73-8ecf-ff6182214ac4",
   "metadata": {},
   "outputs": [],
   "source": []
  }
 ],
 "metadata": {
  "kernelspec": {
   "display_name": "Python 3 (ipykernel)",
   "language": "python",
   "name": "python3"
  },
  "language_info": {
   "codemirror_mode": {
    "name": "ipython",
    "version": 3
   },
   "file_extension": ".py",
   "mimetype": "text/x-python",
   "name": "python",
   "nbconvert_exporter": "python",
   "pygments_lexer": "ipython3",
   "version": "3.12.0"
  }
 },
 "nbformat": 4,
 "nbformat_minor": 5
}
