{
 "cells": [
  {
   "cell_type": "markdown",
   "id": "f6e9c6fd-8927-4b59-8b82-17b5fff110d5",
   "metadata": {},
   "source": [
    "# MULTIPLICACION DE MATRICES CON CORE"
   ]
  },
  {
   "cell_type": "markdown",
   "id": "a9d40cdd-3c68-45b9-8cd5-ece15e165f36",
   "metadata": {},
   "source": [
    "### import Time y Random"
   ]
  },
  {
   "cell_type": "code",
   "execution_count": 3,
   "id": "0edc41b8-1d2f-4b4f-b6ba-0703de71938d",
   "metadata": {},
   "outputs": [],
   "source": [
    "import random as rd, time"
   ]
  },
  {
   "cell_type": "code",
   "execution_count": 4,
   "id": "ba1f0564-a7d8-4781-b000-0d3c319f408d",
   "metadata": {},
   "outputs": [
    {
     "ename": "NameError",
     "evalue": "name 'fil_A' is not defined",
     "output_type": "error",
     "traceback": [
      "\u001b[1;31m---------------------------------------------------------------------------\u001b[0m",
      "\u001b[1;31mNameError\u001b[0m                                 Traceback (most recent call last)",
      "Cell \u001b[1;32mIn[4], line 1\u001b[0m\n\u001b[1;32m----> 1\u001b[0m matriz_A \u001b[38;5;241m=\u001b[39m [[rd\u001b[38;5;241m.\u001b[39mrandint(\u001b[38;5;241m1\u001b[39m, \u001b[38;5;241m99999999\u001b[39m) \u001b[38;5;28;01mfor\u001b[39;00m i \u001b[38;5;129;01min\u001b[39;00m \u001b[38;5;28mrange\u001b[39m (col_A)] \u001b[38;5;28;01mfor\u001b[39;00m j \u001b[38;5;129;01min\u001b[39;00m \u001b[38;5;28mrange\u001b[39m(\u001b[43mfil_A\u001b[49m)]\n",
      "\u001b[1;31mNameError\u001b[0m: name 'fil_A' is not defined"
     ]
    }
   ],
   "source": [
    "matriz_A = [[rd.randint(1, 99999999) for i in range (col_A)] for j in range(fil_A)]"
   ]
  },
  {
   "attachments": {},
   "cell_type": "markdown",
   "id": "3d8fbd82-be75-4c2a-affa-408a05e0b0d7",
   "metadata": {},
   "source": [
    "### multiplicacion paralela, un \"con todos TUS CORES\""
   ]
  },
  {
   "cell_type": "code",
   "execution_count": 1,
   "id": "337c7afe-b12d-4f92-8eac-cf8489512688",
   "metadata": {},
   "outputs": [],
   "source": [
    "import multiprocessing as mp"
   ]
  },
  {
   "cell_type": "code",
   "execution_count": 2,
   "id": "8eceda22-db7e-452d-a3b5-05b8a8176b82",
   "metadata": {},
   "outputs": [],
   "source": [
    "cores=mp.cpu_count()"
   ]
  },
  {
   "cell_type": "code",
   "execution_count": null,
   "id": "405bca16-138a-4559-a82a-c97c97bc1b71",
   "metadata": {},
   "outputs": [],
   "source": [
    "def par_mult():\n",
    "    num_cores=mp.cpu_count()\n",
    "    size_col = (n_col_B/num_cores)\n",
    "    size_fil = (n_fil_A/num_cores)\n",
    "    RawArray('i', n_fil_A*n_col_B)\n",
    "    cores = []\n",
    "    "
   ]
  }
 ],
 "metadata": {
  "kernelspec": {
   "display_name": "Python 3 (ipykernel)",
   "language": "python",
   "name": "python3"
  },
  "language_info": {
   "codemirror_mode": {
    "name": "ipython",
    "version": 3
   },
   "file_extension": ".py",
   "mimetype": "text/x-python",
   "name": "python",
   "nbconvert_exporter": "python",
   "pygments_lexer": "ipython3",
   "version": "3.12.0"
  }
 },
 "nbformat": 4,
 "nbformat_minor": 5
}
