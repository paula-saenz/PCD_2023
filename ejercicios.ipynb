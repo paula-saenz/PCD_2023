{
 "cells": [
  {
   "cell_type": "markdown",
   "id": "c9288f76-6194-487e-a353-5429466e5096",
   "metadata": {},
   "source": [
    "# ejercicio: es la palabra un palindromo o no"
   ]
  },
  {
   "cell_type": "code",
   "execution_count": null,
   "id": "f6f49502-6c4c-40ee-85c1-e3506ba80d2f",
   "metadata": {},
   "outputs": [],
   "source": [
    "palindromo = False\n",
    "palabra = input()\n",
    "for i in range (len(palabra)):\n",
    "    print(palabra[i])\n",
    "    for j in range (len(palabra)//2):\n",
    "        if (palabra[j] == palabra[-1-j]):\n",
    "            palindromo = True\n",
    "\n",
    "if (palindromo == True):\n",
    "    print(\"es palindromo\")\n",
    "else:\n",
    "    print (\"No es palindromo\")\n"
   ]
  },
  {
   "cell_type": "markdown",
   "id": "03d52651-4842-4679-8283-fcb200bbd565",
   "metadata": {},
   "source": [
    "## ver si una palabra tiene vocales y cuales"
   ]
  },
  {
   "cell_type": "code",
   "execution_count": null,
   "id": "d1e860df-aac6-4bbe-92c4-bbecdde5d0a3",
   "metadata": {},
   "outputs": [],
   "source": [
    "p = input()\n",
    "p.lower()\n",
    "vocales = \"aeiou\"\n",
    "for i in range (len(p)):\n",
    "    for j in range (len(vocales)):\n",
    "        if p[i] == vocales[j]:\n",
    "            print(p[i])\n",
    "   \n"
   ]
  },
  {
   "cell_type": "code",
   "execution_count": null,
   "id": "f4d1bafe-9683-4d51-bb61-f9d18a843d7c",
   "metadata": {},
   "outputs": [],
   "source": [
    "p = input()\n",
    "p.lower()\n",
    "vocales = [\"a\",\"e\",\"i\", \"o\", \"u\"]\n",
    "for i in range (len(p)):\n",
    "    for j in range (len(vocales)):\n",
    "        if p[i] == vocales[j]:\n",
    "             print(p[i])\n",
    "   "
   ]
  },
  {
   "cell_type": "code",
   "execution_count": null,
   "id": "923beb30-d2c0-4b8b-a6ac-6615c94abbc6",
   "metadata": {},
   "outputs": [],
   "source": []
  }
 ],
 "metadata": {
  "kernelspec": {
   "display_name": "Python 3 (ipykernel)",
   "language": "python",
   "name": "python3"
  },
  "language_info": {
   "codemirror_mode": {
    "name": "ipython",
    "version": 3
   },
   "file_extension": ".py",
   "mimetype": "text/x-python",
   "name": "python",
   "nbconvert_exporter": "python",
   "pygments_lexer": "ipython3",
   "version": "3.12.0"
  }
 },
 "nbformat": 4,
 "nbformat_minor": 5
}
