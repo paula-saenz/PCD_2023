{
 "cells": [
  {
   "cell_type": "markdown",
   "id": "11959f0d",
   "metadata": {},
   "source": [
    "<!-- PROFILE LINK -->\n",
    "<h1 style = \"text-align:center; font-size: 30px\">PROGRAMACIÓN CONCURRENTE Y DISTRIBUIDA</h1>\n",
    "<a href =\"https://github.com/sukuzhanay\">\n",
    "<img src=\"https://avatars.githubusercontent.com/u/17354471?v=4\" style=\"float:left;vertical-align:centre\" width=\"110\" height=\"110\" title = \"Christian Vlaldimir Sucuzhanay Arevalo 21535220\">\n",
    "<a href =\"https://github.com/sukuzhanay?tab=repositories\">\n",
    "<img src=\"https://media-exp1.licdn.com/dms/image/C4D0BAQEu_Aa76fcmPw/company-logo_200_200/0/1630998679429?e=2159024400&v=beta&t=2feC9GG7RWCWizTqsK5HzDWB1TL2DOQuAVwnMf6FFvk\" title = \"M41\" alt=\"UE\" width=\"110\" height=\"110\" style=\"float:right;vertical-align:centre\">"
   ]
  },
  {
   "cell_type": "markdown",
   "id": "b5aae5fa",
   "metadata": {},
   "source": [
    "# Python crash course"
   ]
  },
  {
   "cell_type": "markdown",
   "id": "b93a9450",
   "metadata": {},
   "source": [
    "En esta sesión vamos a hacer una introducción a Python y los Notebooks de Jupyter. También qué tipos de estructuras y cuáles hay en este lenguaje."
   ]
  },
  {
   "cell_type": "markdown",
   "id": "6e27bd55",
   "metadata": {},
   "source": [
    "## ¿Qué es Python?\n",
    "\n",
    "Python es un lenguaje de programación interpretado, dinámico y multiplataforma, que permite la programación orientada a objetos, imperativa o funcional, ya que es un lenguaje multiparadigma. Aunque nosotros nos centraremos en el uso de Python para la programacion concurrente y distribuida.\n",
    "\n",
    "Python fue diseñado en 1991 prestando especial atención en su legibilidad, como ello demuestra el __Zen de Python__ (ejecuta lo siguiente en una celda de Jupyter).\n",
    "\n",
    "```\n",
    "import this\n",
    "```\n",
    "\n",
    "Esto quiere decir que la filosofía de Python nos va a ayudar a que nuestros códigos sean más inteligibles y ordenados.\n",
    "\n",
    "Como este ejemplo:\n"
   ]
  },
  {
   "cell_type": "code",
   "execution_count": 2,
   "id": "03c06ac0-688b-4f5d-9007-d34aa61332c2",
   "metadata": {},
   "outputs": [
    {
     "name": "stdout",
     "output_type": "stream",
     "text": [
      "The Zen of Python, by Tim Peters\n",
      "\n",
      "Beautiful is better than ugly.\n",
      "Explicit is better than implicit.\n",
      "Simple is better than complex.\n",
      "Complex is better than complicated.\n",
      "Flat is better than nested.\n",
      "Sparse is better than dense.\n",
      "Readability counts.\n",
      "Special cases aren't special enough to break the rules.\n",
      "Although practicality beats purity.\n",
      "Errors should never pass silently.\n",
      "Unless explicitly silenced.\n",
      "In the face of ambiguity, refuse the temptation to guess.\n",
      "There should be one-- and preferably only one --obvious way to do it.\n",
      "Although that way may not be obvious at first unless you're Dutch.\n",
      "Now is better than never.\n",
      "Although never is often better than *right* now.\n",
      "If the implementation is hard to explain, it's a bad idea.\n",
      "If the implementation is easy to explain, it may be a good idea.\n",
      "Namespaces are one honking great idea -- let's do more of those!\n"
     ]
    }
   ],
   "source": [
    "import this"
   ]
  },
  {
   "cell_type": "code",
   "execution_count": null,
   "id": "3dea7c14",
   "metadata": {},
   "outputs": [],
   "source": [
    "!type ./script/primer_script.py"
   ]
  },
  {
   "cell_type": "markdown",
   "id": "24fbd4b2",
   "metadata": {},
   "source": [
    "<div class=\"alert alert-info\"><strong>¡¡¡ OJO !!!</strong>\n",
    "    \n",
    "`cat` no es un comando propio de Python, si no de la línea de comandos. Anteponiendo `!` se pueden ejecutar comandos de la terminal como `cd`, `ls`, `cat`.\n",
    "    \n",
    "Recuerda usar comandos de tu Sistema Operativo, si eres usuario de Windows sustituye `cat` por `type`.\n",
    "</div>"
   ]
  },
  {
   "cell_type": "markdown",
   "id": "451fe49b",
   "metadata": {},
   "source": [
    "La celda de código anterior nos ha mostrado el contenido del script pero no lo ha ejecutado, para ello podemos hacer uso del comando __mágico__ de Jupyter. `%run`."
   ]
  },
  {
   "cell_type": "code",
   "execution_count": null,
   "id": "8071a6f5",
   "metadata": {},
   "outputs": [],
   "source": [
    "%run ./script/primer_script.py"
   ]
  },
  {
   "cell_type": "markdown",
   "id": "d4803c47",
   "metadata": {},
   "source": [
    "Siempre que vayamos a trabajar con código python en scripts puedes hacer uso de tu editor de texto favorito y ejecutarlo dicho script desde la línea de comandos `$ python3 ./script/primer_script.py`.\n",
    "\n",
    "Pero existen IDEs (Integrated Development Enviroment) que nos van a facilitar mucho la tarea a la hora de escribir código, ya que la mayoría de ellos contienen herramientas extras como debugg, explorador de variables, etc.\n",
    "\n",
    "Uno de ellos es Spyder, incluido (puede que necesites instalarlo completamente) dentro de Anaconda, el propio Jupyter permite abrir scripts `.py` y editar el código. También otros softwares como _Sublime Text_, _NotePad++_, etc."
   ]
  },
  {
   "cell_type": "markdown",
   "id": "0d4cad3d",
   "metadata": {},
   "source": [
    "## ¿Qué es Jupyter?\n",
    "\n",
    "Jupyter Notebook no es más que un interprete interactivo de Python (también de Julia y R, de ahí su nombre) cuya interfaz nos va a facilizar centrarnos en el aprendizaje de Python. Nos va a permitir mezclar elementos de estos lenguajes, de Markdown y generar documentos amigables a la vista.\n",
    "\n",
    "### Los Notebooks de Jupyter\n",
    "\n",
    "Paradójicamente vamos a explicar qué es un Notebook de Jupyter haciendo uso de uno de ellos.\n",
    "\n",
    "Al abrir Jupyter lo primero que vemos es un navegador de carpetas con todo el contenido de la carpeta sobre la que lo hemos abierto (o la que tengamos puesta por defecto), esta primera ventana nos va a permitir organizar, abrir, cerrar todos los documentos que haya ahí contenidos (solo nos dejará abrir los archivos permitidos).\n",
    "\n",
    "Al abrir un Notebook veremos un archivo separado por celdas, donde cada celda puede ser de distintos tipos y cuyo contenido puede ser de diferentes clases.\n",
    "\n",
    "No dudes en explorar las principales opciones del menú superior del Notebook."
   ]
  },
  {
   "cell_type": "markdown",
   "id": "0f3d0280",
   "metadata": {},
   "source": [
    "Cada celda viene marcada por la palabra `In[<n>]` y vendrá numerada según en el orden en el que haya sido ejecutada. Para usar Python solo tendremos que escribir código en cada una de ellas y dar click en el menú superior `Cell > Run` o mediante el atajo de teclado `shift + Enter / cmd + Enter`, dependiendo de tu SO.\n",
    "\n",
    "El resultado de la celda se mostrará en otra celda no editable `Out[<n>]`\n",
    "\n",
    "Si en el menú desplegable superior seleccionas `Markdown` podrás escribir texto, incluir imágenes e incluso fórmulas de `LaTex`:\n",
    "$$f(x)=\\frac{1}{x\\sigma \\sqrt{2\\pi}}e^{-\\frac{(\\ln x - \\mu)^2}{2\\sigma^2}}$$\n",
    "\n",
    "Sobre `Markdown` ahora no te preocupes, ya que es un lenguaje en sí mismo y no es el objetivo de este módulo. Pero en Internet se puede encontrar mucha información y algunas _cheat sheets_ muy útiles con lo básico del lenguaje.\n",
    "\n",
    "Los Notebooks tienen muchos atajos que iremos aprendiendo y memorizando con su uso, puedes consultar todos ellos en `Help > Keyboard shortcuts` o pulsando la letra `H` siempre que no estés editando una celda.\n",
    "\n",
    "<div class=\"alert alert-success\"><b>Consejo:</b> \n",
    "Pulsa `scape` antes de usar un atajo de teclado.\n",
    "</div>"
   ]
  },
  {
   "cell_type": "markdown",
   "id": "56da53cb",
   "metadata": {},
   "source": [
    "## Introducción a la sintaxis de Python\n",
    "\n",
    "Dentro de cada celda podemos hacer operaciones matemáticas haciendo uso de Python, para ello basta con teclear la operación y ejecutar la celda."
   ]
  },
  {
   "cell_type": "code",
   "execution_count": 3,
   "id": "f3e59a2a",
   "metadata": {},
   "outputs": [
    {
     "data": {
      "text/plain": [
       "1.5"
      ]
     },
     "execution_count": 3,
     "metadata": {},
     "output_type": "execute_result"
    }
   ],
   "source": [
    "3/2"
   ]
  },
  {
   "cell_type": "markdown",
   "id": "8804c266",
   "metadata": {},
   "source": [
    "### Operaciones matemáticas\n",
    "Los operadores son los siguientes:\n",
    "* Suma: a + b\n",
    "* Resta: a - b\n",
    "* Producto: a * b\n",
    "* Cociente: a / b\n",
    "* Cociente entero: a // b\n",
    "* Potencia: a ** b\n",
    "* Resto: %"
   ]
  },
  {
   "cell_type": "code",
   "execution_count": 4,
   "id": "8b64a60d",
   "metadata": {},
   "outputs": [
    {
     "data": {
      "text/plain": [
       "(1+2j)"
      ]
     },
     "execution_count": 4,
     "metadata": {},
     "output_type": "execute_result"
    }
   ],
   "source": [
    "1+2j"
   ]
  },
  {
   "cell_type": "markdown",
   "id": "931a5217",
   "metadata": {},
   "source": [
    "### Tipos de Python\n",
    "A la hora de realizar operaciones es necesario tener en cuenta los tipos disponibles:\n",
    "* Tipo numérico: `int`, `float`, `complex`.\n",
    "\n",
    "Aunque no todos son tipos númericos:\n",
    "* Tipo cadena: `str`.\n",
    "* Tipo booleano: `bool`.\n",
    "* Tipo binario: `bytes`, `bytearray`, `memoryview`.\n",
    "* Tipo secuencia: `list`, `tuple`, `range`.\n",
    "* Tipo conjunto: `set`, `frozenset`.\n",
    "* Tipo mapeo: `dict`.\n",
    "\n",
    "Los tipos de dato secuencia, conjunto y mapeo, de forma usual se les llama estructuras ya que son colecciones de objetos con alguno de los otros tipos básicos.\n",
    "\n",
    "<div class=\"alert alert-info\"><strong>¡¡¡ OJO !!!</strong>\n",
    "    \n",
    "En Python 2 la división simple `/` de dos enteros realiza la división entera.\n",
    "</div>\n",
    "\n",
    "La función `type` se puede utilizar para obtener el tipo de un valor. La función `isinstance` premite comprobar si es de un valor concreto.\n",
    "\n",
    "```\n",
    "isinstance(2.5, float)\n",
    "```\n",
    "\n",
    "Y también funciones para convertir los valores a otro tipo:\n",
    "* `int`: para convertir a valores tipo entero.\n",
    "* `float`: para convertir a valores de coma flotante.\n",
    "* `str`: para covertir a valores de tipo string.\n",
    "* `complex`:  para convertir a valor de tipo complejo.\n",
    "\n",
    "Para el uso de las funciones anteriores antes vamos a ver como crear el primer objeto (variable) y asignándole un valor."
   ]
  },
  {
   "cell_type": "markdown",
   "id": "a1f3a474",
   "metadata": {},
   "source": [
    "### Asignación de valores\n",
    "\n",
    "Para asignar un valor a un objeto (y definirlo) se usa el operador `=`. El nombre del objeto solo puede contener caracteres de tipo alfanumérico _a-z_, _A-Z_, _0-9_ y otros símbolos como el guión bajo, pero siempre deben empezar por una letra.\n",
    "\n",
    "Por cuestiones de estilo, las variables suelen empezar con miníscula, reservando la mayúscula para clases. \n",
    "\n",
    "\n",
    "<div class=\"alert alert-success\"><b>Consejo:</b> \n",
    "    \n",
    "En este [enlace](https://www.python.org/dev/peps/) puedes consultar el convenio de estilos establecido por Python, no son normas a seguir pero es recomendable hacerlo.\n",
    "</div>\n",
    "\n",
    "Los nombres de objetos no pueden ser palabras reservadas por el lenguaje:\n",
    "\n",
    "```\n",
    "and, as, assert, break, class, continue, def, del, elif, else, except, exec, finally, for, from, global, if, import, in, is, lambda, not, or, pass, print, raise, return, try, while, with, yiel\n",
    "```\n",
    "\n",
    "La primera asignación que haremos será la siguiente:\n",
    "```\n",
    "    a = 1\n",
    "    b = 2\n",
    "```"
   ]
  },
  {
   "cell_type": "code",
   "execution_count": 5,
   "id": "0207346b",
   "metadata": {},
   "outputs": [],
   "source": [
    "a = 1\n",
    "b = 1.3"
   ]
  },
  {
   "cell_type": "code",
   "execution_count": 6,
   "id": "9f45392d",
   "metadata": {},
   "outputs": [
    {
     "data": {
      "text/plain": [
       "1"
      ]
     },
     "execution_count": 6,
     "metadata": {},
     "output_type": "execute_result"
    }
   ],
   "source": [
    "a"
   ]
  },
  {
   "cell_type": "markdown",
   "id": "4a12ef69",
   "metadata": {},
   "source": [
    "Si queremos ver el valor solo tenemos que escribir en una celda el objeto que hemos creado y ejecutar dicha celda o simplemente ponerlo al final de la celda en la que lo hemos creado."
   ]
  },
  {
   "cell_type": "code",
   "execution_count": 7,
   "id": "fa33899e",
   "metadata": {},
   "outputs": [
    {
     "data": {
      "text/plain": [
       "'7'"
      ]
     },
     "execution_count": 7,
     "metadata": {},
     "output_type": "execute_result"
    }
   ],
   "source": [
    "c = \"7\"\n",
    "c"
   ]
  },
  {
   "cell_type": "markdown",
   "id": "c1b27aba",
   "metadata": {},
   "source": [
    "Otra opción más cómoda para imprimir los objetos es hacer uso de la función (o método) `print`. Más adelante veremos las opciones de esta función."
   ]
  },
  {
   "cell_type": "code",
   "execution_count": 8,
   "id": "d8b6f027",
   "metadata": {},
   "outputs": [
    {
     "name": "stdout",
     "output_type": "stream",
     "text": [
      "1 1.3\n"
     ]
    }
   ],
   "source": [
    "print(a, b)"
   ]
  },
  {
   "cell_type": "markdown",
   "id": "1775ccb6",
   "metadata": {},
   "source": [
    "Para la creación de los objetos anteriores nos hemos limitado a asignar un valor al objeto y Python al ser un lenguaje de tipado dinámico se encarga de inferir de qué tipo debe ser cada uno de los objetos."
   ]
  },
  {
   "cell_type": "code",
   "execution_count": 9,
   "id": "a7e7461e",
   "metadata": {},
   "outputs": [
    {
     "name": "stdout",
     "output_type": "stream",
     "text": [
      "<class 'int'> <class 'float'> <class 'str'>\n"
     ]
    }
   ],
   "source": [
    "print(type(a), type(b), type(c))"
   ]
  },
  {
   "cell_type": "markdown",
   "id": "2eae3976",
   "metadata": {},
   "source": [
    "Al tratarse de un tipado dinámico significa que Python se encargará de asignar el tipo que estemos asignando y este irá cambiando si a lo largo de nuestro código cambia.\n",
    "```\n",
    "    d = 1\n",
    "    d = 2 + 5j\n",
    "    d = True\n",
    "```"
   ]
  },
  {
   "cell_type": "code",
   "execution_count": 10,
   "id": "79db7e0a",
   "metadata": {},
   "outputs": [
    {
     "name": "stdout",
     "output_type": "stream",
     "text": [
      "<class 'int'>\n",
      "<class 'complex'>\n",
      "<class 'bool'>\n"
     ]
    }
   ],
   "source": [
    "d = 1\n",
    "print(type(d))\n",
    "d = 2 + 5j\n",
    "print(type(d))\n",
    "d = False\n",
    "print(type(d))"
   ]
  },
  {
   "cell_type": "markdown",
   "id": "6828db83",
   "metadata": {},
   "source": [
    "Python también posee la característica de que tiene un tipado fuerte, esto significa que queremos hacer una operación con dos objetos y son de tipos incompatibles nos mostrará un error en lugar de intentar convertir uno de los objetos a un tipo compatible.\n",
    "\n",
    "```\n",
    "a + c\n",
    "```"
   ]
  },
  {
   "cell_type": "code",
   "execution_count": 11,
   "id": "936bee2b",
   "metadata": {},
   "outputs": [
    {
     "name": "stdout",
     "output_type": "stream",
     "text": [
      "<class 'int'> <class 'float'>\n"
     ]
    }
   ],
   "source": [
    "print(type(a),type(b))"
   ]
  },
  {
   "cell_type": "code",
   "execution_count": 12,
   "id": "fc725ce3",
   "metadata": {},
   "outputs": [
    {
     "name": "stdout",
     "output_type": "stream",
     "text": [
      "2.3\n"
     ]
    }
   ],
   "source": [
    "f = a + b\n",
    "print(f)"
   ]
  },
  {
   "cell_type": "code",
   "execution_count": 13,
   "id": "f7b685b6",
   "metadata": {},
   "outputs": [
    {
     "data": {
      "text/plain": [
       "float"
      ]
     },
     "execution_count": 13,
     "metadata": {},
     "output_type": "execute_result"
    }
   ],
   "source": [
    "type(f)"
   ]
  },
  {
   "cell_type": "markdown",
   "id": "ec55ecf2-9758-42a9-a78a-7b63512ed31a",
   "metadata": {},
   "source": [
    "para poder hacer operaciones con dos tipos de variables (int y string) hay que castear el mas conveniente, y al tipo oportuno"
   ]
  },
  {
   "cell_type": "code",
   "execution_count": 14,
   "id": "ce2cd52f",
   "metadata": {},
   "outputs": [
    {
     "data": {
      "text/plain": [
       "8"
      ]
     },
     "execution_count": 14,
     "metadata": {},
     "output_type": "execute_result"
    }
   ],
   "source": [
    "a+int(c)"
   ]
  },
  {
   "cell_type": "code",
   "execution_count": 15,
   "id": "67d3aa43",
   "metadata": {},
   "outputs": [
    {
     "data": {
      "text/plain": [
       "'17'"
      ]
     },
     "execution_count": 15,
     "metadata": {},
     "output_type": "execute_result"
    }
   ],
   "source": [
    "str(a)+c"
   ]
  },
  {
   "cell_type": "code",
   "execution_count": 16,
   "id": "f0e7eb54",
   "metadata": {},
   "outputs": [
    {
     "data": {
      "text/plain": [
       "'7'"
      ]
     },
     "execution_count": 16,
     "metadata": {},
     "output_type": "execute_result"
    }
   ],
   "source": [
    "c"
   ]
  },
  {
   "cell_type": "markdown",
   "id": "f4c1453f",
   "metadata": {},
   "source": [
    "Otra característica de Python que debemos tener en cuenta a la hora de asignar valores a un objeto es que se puede hacer de forma simultánea para varios objetos, esto es importante porque más adelante veremos funciones que devuelven varios objetos a la vez.\n",
    "```\n",
    "    x, y = 3, '5'\n",
    "```"
   ]
  },
  {
   "cell_type": "code",
   "execution_count": 17,
   "id": "caa74605-3f33-4045-99d7-3645b3e17487",
   "metadata": {},
   "outputs": [],
   "source": [
    "import os, threading as th, multiprocessing as mp, platform as pt"
   ]
  },
  {
   "cell_type": "code",
   "execution_count": 18,
   "id": "b51648b7",
   "metadata": {},
   "outputs": [
    {
     "name": "stdout",
     "output_type": "stream",
     "text": [
      "3 <class 'int'>\n",
      "5 <class 'str'>\n"
     ]
    },
    {
     "data": {
      "text/plain": [
       "('5', 3)"
      ]
     },
     "execution_count": 18,
     "metadata": {},
     "output_type": "execute_result"
    }
   ],
   "source": [
    "x, y = 3, \"5\"\n",
    "print(x, type(x))\n",
    "print(y, type(y))\n",
    "y, x"
   ]
  },
  {
   "cell_type": "markdown",
   "id": "57bc2002",
   "metadata": {},
   "source": [
    "Ejemplo de suma de dos string"
   ]
  },
  {
   "cell_type": "code",
   "execution_count": 19,
   "id": "d03c9a16",
   "metadata": {},
   "outputs": [],
   "source": [
    "z = 'Hola'\n",
    "t = 'Adios'\n",
    "#'Ejemplo de dos string'"
   ]
  },
  {
   "cell_type": "code",
   "execution_count": null,
   "id": "a5a02184",
   "metadata": {},
   "outputs": [],
   "source": []
  },
  {
   "cell_type": "code",
   "execution_count": 20,
   "id": "212c757e",
   "metadata": {},
   "outputs": [],
   "source": [
    "result1 = z + t"
   ]
  },
  {
   "cell_type": "code",
   "execution_count": 21,
   "id": "a837e531-7336-47b1-bf2c-f3f9a1f5778d",
   "metadata": {},
   "outputs": [],
   "source": [
    "result2 = z,t"
   ]
  },
  {
   "cell_type": "code",
   "execution_count": 22,
   "id": "e06765e2-4a7c-49e4-bf0c-b10372e9d0b1",
   "metadata": {},
   "outputs": [
    {
     "data": {
      "text/plain": [
       "'HolaAdios'"
      ]
     },
     "execution_count": 22,
     "metadata": {},
     "output_type": "execute_result"
    }
   ],
   "source": [
    "result1"
   ]
  },
  {
   "cell_type": "code",
   "execution_count": 23,
   "id": "66c242d6-4cf9-4e84-8c2a-de2f2c6fbb6e",
   "metadata": {},
   "outputs": [
    {
     "data": {
      "text/plain": [
       "tuple"
      ]
     },
     "execution_count": 23,
     "metadata": {},
     "output_type": "execute_result"
    }
   ],
   "source": [
    "type(result2)"
   ]
  },
  {
   "cell_type": "markdown",
   "id": "31298fef",
   "metadata": {},
   "source": [
    "Prueba a continuación a realizar algunas pruebas de asignación y de operaciones ¿qué tipo de error nos mostrará si sumamos dos objetos de tipo string?"
   ]
  },
  {
   "cell_type": "code",
   "execution_count": 25,
   "id": "ab9d312c",
   "metadata": {},
   "outputs": [
    {
     "name": "stdout",
     "output_type": "stream",
     "text": [
      "[1, 2, 3]\n"
     ]
    }
   ],
   "source": [
    "primera_lista = [1, 2, 3]\n",
    "print(primera_lista)"
   ]
  },
  {
   "cell_type": "markdown",
   "id": "f76f581d",
   "metadata": {},
   "source": [
    "<div class=\"alert alert-success\"><b>Consejo:</b> \n",
    "    \n",
    "Si una línea empieza por el símbolo `#` significa que es un comentario y cuando ejecutes Python simplemente lo ignorará, pero a nosotros nos puede proporcionar mucha información si prestamos atención  y añadimos suficientes comentarios a los script `*.py` que estemos desarrollando.\n",
    "\n",
    "el comentario también puede ir al final de una línea siempre que esta no rompa la sintaxis del lenguaje.\n",
    "```\n",
    "    h = 2.33 #Altura\n",
    "    b = 3 #Base\n",
    "```\n",
    "Existe un atajo de teclado para comentar varias lineas a la vez, prueba a encontrarlo.\n",
    "</div>"
   ]
  },
  {
   "cell_type": "code",
   "execution_count": 28,
   "id": "831848a4",
   "metadata": {},
   "outputs": [
    {
     "data": {
      "text/plain": [
       "[1, 2, 3, 1, 1, 1]"
      ]
     },
     "execution_count": 28,
     "metadata": {},
     "output_type": "execute_result"
    }
   ],
   "source": [
    "primera_lista + [1, 1, 1]"
   ]
  },
  {
   "cell_type": "code",
   "execution_count": 29,
   "id": "49f9e2a9",
   "metadata": {},
   "outputs": [
    {
     "data": {
      "text/plain": [
       "2"
      ]
     },
     "execution_count": 29,
     "metadata": {},
     "output_type": "execute_result"
    }
   ],
   "source": [
    "primera_lista[1]"
   ]
  },
  {
   "cell_type": "code",
   "execution_count": 30,
   "id": "0c3f9069",
   "metadata": {},
   "outputs": [],
   "source": [
    "x = 1.5\n",
    "lista = [1, \"2\", x, [1, 'a', 'Madrid', 5 + 1j], 5, 6]"
   ]
  },
  {
   "cell_type": "code",
   "execution_count": 31,
   "id": "b8a5e560-dd3a-402d-a080-d02f289fd610",
   "metadata": {},
   "outputs": [
    {
     "data": {
      "text/plain": [
       "[1, '2', 1.5, [1, 'a', 'Madrid', (5+1j)], 5, 6]"
      ]
     },
     "execution_count": 31,
     "metadata": {},
     "output_type": "execute_result"
    }
   ],
   "source": [
    "lista"
   ]
  },
  {
   "cell_type": "code",
   "execution_count": 32,
   "id": "5711d411-0ffa-408e-b949-1402dd68f60e",
   "metadata": {},
   "outputs": [
    {
     "data": {
      "text/plain": [
       "list"
      ]
     },
     "execution_count": 32,
     "metadata": {},
     "output_type": "execute_result"
    }
   ],
   "source": [
    "type(lista)"
   ]
  },
  {
   "cell_type": "markdown",
   "id": "a09fb930-1b03-4092-b3b6-0f7416bb8be3",
   "metadata": {},
   "source": [
    "z=hola por eso z[3] nos da a"
   ]
  },
  {
   "cell_type": "code",
   "execution_count": 33,
   "id": "f8d700b7",
   "metadata": {},
   "outputs": [
    {
     "data": {
      "text/plain": [
       "'a'"
      ]
     },
     "execution_count": 33,
     "metadata": {},
     "output_type": "execute_result"
    }
   ],
   "source": [
    "z[3]"
   ]
  },
  {
   "cell_type": "code",
   "execution_count": 34,
   "id": "40258757-0bd4-4fa3-90e0-33e7198e7ee0",
   "metadata": {},
   "outputs": [
    {
     "name": "stdout",
     "output_type": "stream",
     "text": [
      "Soy 0\n",
      "Soy 1\n",
      "Soy 2\n",
      "Soy 3\n",
      "Soy 4\n",
      "Soy 5\n",
      "Soy 6\n",
      "Soy 7\n",
      "Soy 8\n",
      "Soy 9\n"
     ]
    }
   ],
   "source": [
    "for i in range(10):\n",
    "    print('Soy', i)"
   ]
  },
  {
   "cell_type": "code",
   "execution_count": 35,
   "id": "421ddf42",
   "metadata": {},
   "outputs": [
    {
     "data": {
      "text/plain": [
       "'2'"
      ]
     },
     "execution_count": 35,
     "metadata": {},
     "output_type": "execute_result"
    }
   ],
   "source": [
    "lista[1][0]"
   ]
  },
  {
   "cell_type": "code",
   "execution_count": 36,
   "id": "1eef1d9a-5402-4a22-99b5-e009b0277bde",
   "metadata": {},
   "outputs": [
    {
     "data": {
      "text/plain": [
       "1.5"
      ]
     },
     "execution_count": 36,
     "metadata": {},
     "output_type": "execute_result"
    }
   ],
   "source": [
    "lista[-4]"
   ]
  },
  {
   "cell_type": "code",
   "execution_count": 37,
   "id": "aebd9ef7",
   "metadata": {},
   "outputs": [
    {
     "name": "stdout",
     "output_type": "stream",
     "text": [
      "[1, '2', 1.5, [1, 'a', 'Madrid', (5+1j)], 5, 6]\n"
     ]
    }
   ],
   "source": [
    "print(lista)"
   ]
  },
  {
   "cell_type": "markdown",
   "id": "9f03e5ff-4d7f-43f7-b493-43791f031b64",
   "metadata": {},
   "source": [
    "slicing: incluye la posicion 1 pero no la 4"
   ]
  },
  {
   "cell_type": "code",
   "execution_count": 38,
   "id": "421fa3bb",
   "metadata": {},
   "outputs": [
    {
     "data": {
      "text/plain": [
       "['2', 1.5, [1, 'a', 'Madrid', (5+1j)]]"
      ]
     },
     "execution_count": 38,
     "metadata": {},
     "output_type": "execute_result"
    }
   ],
   "source": [
    "lista[1:4]"
   ]
  },
  {
   "cell_type": "code",
   "execution_count": 39,
   "id": "4d529fc5",
   "metadata": {},
   "outputs": [
    {
     "data": {
      "text/plain": [
       "list"
      ]
     },
     "execution_count": 39,
     "metadata": {},
     "output_type": "execute_result"
    }
   ],
   "source": [
    "type(lista)"
   ]
  },
  {
   "cell_type": "code",
   "execution_count": 40,
   "id": "e701fa50",
   "metadata": {},
   "outputs": [],
   "source": [
    "tup = (1, 2, 3)"
   ]
  },
  {
   "cell_type": "code",
   "execution_count": 41,
   "id": "eae38e50",
   "metadata": {},
   "outputs": [
    {
     "data": {
      "text/plain": [
       "2"
      ]
     },
     "execution_count": 41,
     "metadata": {},
     "output_type": "execute_result"
    }
   ],
   "source": [
    "tup[1]"
   ]
  },
  {
   "cell_type": "code",
   "execution_count": 42,
   "id": "c19f682f-df2d-4141-8fcd-b2ba782a4d43",
   "metadata": {},
   "outputs": [
    {
     "data": {
      "text/plain": [
       "(1, 2, 3, 4, 5)"
      ]
     },
     "execution_count": 42,
     "metadata": {},
     "output_type": "execute_result"
    }
   ],
   "source": [
    "tup + (4,5)"
   ]
  },
  {
   "cell_type": "code",
   "execution_count": 43,
   "id": "3da9b5ae",
   "metadata": {},
   "outputs": [
    {
     "name": "stdout",
     "output_type": "stream",
     "text": [
      "(1, 2, 3) <class 'tuple'>\n"
     ]
    }
   ],
   "source": [
    "print(tup, type(tup))"
   ]
  },
  {
   "cell_type": "markdown",
   "id": "fa45c92e",
   "metadata": {},
   "source": [
    "De los tipos que hemos visto, merecen especial interés las estructuras (tuplas, listas, diccionarios, conjuntos), ya que dotan de mucha versatilidad y nos permitirán poder realizar todo nuestro trabajo.\n",
    "\n",
    "#### Listas\n",
    "\n",
    "Las listas son colecciones ordenadas de datos en el que cada uno de ellos ocupa un lugar dentro de la lista, su definición se realizar con `[...]` separando sus elementos mediantes comas.\n",
    "\n",
    "```\n",
    "primera_lista = [1, 2, 3]\n",
    "```\n",
    "\n",
    "Si imprimimos el objeto lo observaremos tal cual lo hemos definido, una característica interesante de las listas es que cada uno de sus elementos no tiene porque ser un único valor e incluso no tienen porqué ser del mismo tipo.\n",
    "\n",
    "```\n",
    "    x = 1.5\n",
    "    lista = [1, \"2\", x, [1, 'a', 'Madrid', 5 + 1j], 5, 6]\n",
    "```\n",
    "\n",
    "Además podemos acceder a posiciones concretas dentro de la lista:\n",
    "```\n",
    "    lista[1]\n",
    "```\n",
    "Hay que tener en cuenta que Python idexa empezando por el número 0, por lo que en el ejemplo anterior estamos consultando el segundo elemento.\n",
    "\n",
    "También permite el acceso a posiciones negativas y a subconjuntos de posiciones\n",
    "\n",
    "```\n",
    "    lista[-2]\n",
    "    lista[2:4]\n",
    "```\n",
    "\n",
    "¿Qué ocurre si sumamos dos listas?"
   ]
  },
  {
   "cell_type": "markdown",
   "id": "d0dd1f21",
   "metadata": {},
   "source": [
    "\n",
    "#### Tuplas\n",
    "Las tuplas son un tipo de estructura de datos igual que las listas solo que con la propiedad de que son inmutables. Esto significa que no podremos modificarlas después de su creación.\n",
    "\n",
    "La definición de las tuplas se hace de igual manera que las listas pero con  paréntesis `(...)`."
   ]
  },
  {
   "cell_type": "markdown",
   "id": "32685044",
   "metadata": {},
   "source": [
    "\n",
    "#### Diccionarios\n",
    "Los diccionarios son uno de los tipos más potentes que posee Python, ya que nos van a facilitar muchas tareas y permiten el acceso rápido a los datos contenidos en ellos bajo ciertas condiciones.\n",
    "\n",
    "Hay que tener en cuenta que hasta la versión 3.7 (sin incluir) los diccionarios eran elementos sin orden, por lo que no se respetaba el orden en su definición. Desde la versión 3.7 esto ha cambiado y ahora sí están ordenados.\n",
    "\n",
    "Todos los datos vienen en formato `clave:valor` donde cada valor puede ser de un tipo.\n",
    "\n",
    "```\n",
    "    diccionario = {'pepe':36, 'maria':23, 'olga':[43, 'XDFR']}\n",
    "```\n",
    "El acceso a sus datos se realiza mediante la clave `diccionario['olga']`."
   ]
  },
  {
   "cell_type": "code",
   "execution_count": 44,
   "id": "2745740f",
   "metadata": {},
   "outputs": [
    {
     "name": "stdout",
     "output_type": "stream",
     "text": [
      "{'pepe': 36, 'maria': 23, 'olga': [43, 'XDFR']}\n"
     ]
    }
   ],
   "source": [
    "diccionario = {'pepe':36, 'maria':23, 'olga':[43, 'XDFR']}\n",
    "print(diccionario)"
   ]
  },
  {
   "cell_type": "code",
   "execution_count": 45,
   "id": "474893a0",
   "metadata": {},
   "outputs": [
    {
     "data": {
      "text/plain": [
       "23"
      ]
     },
     "execution_count": 45,
     "metadata": {},
     "output_type": "execute_result"
    }
   ],
   "source": [
    "diccionario['maria']"
   ]
  },
  {
   "cell_type": "code",
   "execution_count": 46,
   "id": "0d74874e",
   "metadata": {},
   "outputs": [
    {
     "name": "stdout",
     "output_type": "stream",
     "text": [
      "{'pepe': 36, 'maria': 23, 'olga': [43, 'XDFR'], 'paco': 23}\n"
     ]
    }
   ],
   "source": [
    "diccionario['paco'] = 23\n",
    "print(diccionario)"
   ]
  },
  {
   "cell_type": "code",
   "execution_count": null,
   "id": "c47bdbb0-40d1-4756-9796-8cf2e3f6dbe3",
   "metadata": {},
   "outputs": [],
   "source": []
  },
  {
   "cell_type": "markdown",
   "id": "0f99a5fd",
   "metadata": {},
   "source": [
    "Una vez que el diccionario ya ha sido creado se pueden añadir más elementos.\n",
    "```\n",
    "    diccionario['antonio'] = 87\n",
    "```\n",
    "\n",
    "O de esta misma manera se puede sustituir valores de los indices ya existentes.\n",
    "\n",
    "Las clave y los valores se pueden obtener en formato lista con los siguientes métodos:\n",
    "```\n",
    "    diccionario.keys()\n",
    "    diccionario.values()\n",
    "    diccionario.items()\n",
    "```\n",
    "\n",
    "Sin embargo, si intentamos recuperar un elemento a través de una clave no existe nos devolverá error, si quieremos evitarlo podemos utilizar un modo más seguro y además informar de un valor concreto cuando el elemento no exista.\n",
    "```\n",
    "    diccionario.get('fran', -1)\n",
    "```\n",
    "\n",
    "En las siguientes secciones veremos más sobre los métodos."
   ]
  },
  {
   "cell_type": "code",
   "execution_count": 47,
   "id": "9fd5a0a5",
   "metadata": {},
   "outputs": [
    {
     "data": {
      "text/plain": [
       "dict"
      ]
     },
     "execution_count": 47,
     "metadata": {},
     "output_type": "execute_result"
    }
   ],
   "source": [
    "type(diccionario)"
   ]
  },
  {
   "cell_type": "code",
   "execution_count": 48,
   "id": "b3c41ef4",
   "metadata": {},
   "outputs": [
    {
     "data": {
      "text/plain": [
       "dict_keys(['pepe', 'maria', 'olga', 'paco'])"
      ]
     },
     "execution_count": 48,
     "metadata": {},
     "output_type": "execute_result"
    }
   ],
   "source": [
    "diccionario.keys()"
   ]
  },
  {
   "cell_type": "code",
   "execution_count": 50,
   "id": "dd28b57f",
   "metadata": {},
   "outputs": [],
   "source": [
    "tt = diccionario.items()"
   ]
  },
  {
   "cell_type": "markdown",
   "id": "29a30f83",
   "metadata": {},
   "source": [
    "#### Operaciones con Strings\n",
    "\n",
    "A la hora de definir un string lo podemos hacer utilizando comillas dobles o simbles:\n",
    "```\n",
    "varStr1 = 'Hola'\n",
    "varStr2 = \"Hola\"\n",
    "\n",
    "varStr1 == varStr2\n",
    "```\n",
    "\n",
    "Dos strings se pueden concatenar sin más que utilizar el operador `+`.\n",
    "\n",
    "Si queremos incluir saldos de línea, podemos utilizar comillas triples.\n",
    "```\n",
    "varStr3 = \"\"\" Cadena de caracteres en\n",
    "varias lineas.\"\"\"\n",
    "print(varStr3)\n",
    "```\n",
    "\n",
    "Posteriormente, veremos más operaciones que podemos realizar con objetos de tipo `str`.\n",
    "\n"
   ]
  },
  {
   "cell_type": "code",
   "execution_count": 51,
   "id": "0fe19509",
   "metadata": {},
   "outputs": [
    {
     "data": {
      "text/plain": [
       "False"
      ]
     },
     "execution_count": 51,
     "metadata": {},
     "output_type": "execute_result"
    }
   ],
   "source": [
    "varStr1 = 'Hola'\n",
    "varStr2 = \"hola\"\n",
    "\n",
    "varStr1 == varStr2"
   ]
  },
  {
   "cell_type": "code",
   "execution_count": 52,
   "id": "c4d70810",
   "metadata": {},
   "outputs": [],
   "source": [
    "varStr3 = \"\"\"Hola \n",
    "Adios\"\"\""
   ]
  },
  {
   "cell_type": "code",
   "execution_count": 53,
   "id": "925fb604",
   "metadata": {},
   "outputs": [
    {
     "name": "stdout",
     "output_type": "stream",
     "text": [
      "Hola \n",
      "Adios\n"
     ]
    }
   ],
   "source": [
    "print(varStr3)"
   ]
  },
  {
   "cell_type": "markdown",
   "id": "9638f5be",
   "metadata": {},
   "source": [
    "### Operadores lógicos\n",
    "\n",
    "Unas de las operaciones más básicas que vamos a realizar son las lógicas, que nos van a permitir conocer si ciertas relaciones o condiciones son ciertas.\n",
    "\n",
    "Los operadores lógicos que disponemos son los siguientes:\n",
    "\n",
    "| Operador | Descripción               | \n",
    "|----------|-----------------------|\n",
    "| `x < y`  | `x` menor que `y`                |           \n",
    "| `x > y`  | `x` mayor que `y`             | \n",
    "| `x <= y` | `x` menor o igual `y`    | \n",
    "| `x >= y` | `x` mayor o igual `y` | \n",
    "| `x == y` | `x`igual `y`                  | \n",
    "| `x != y` | `x` no es igual `y`             | \n",
    "| `not x`     | negación de `x`                          | \n",
    "| <code>x or y</code>   | `x` o `y`                       | \n",
    "| `x and y`  | `x` y `y`                      | \n",
    "\n",
    "\n",
    "\n",
    "\n"
   ]
  },
  {
   "cell_type": "code",
   "execution_count": 54,
   "id": "3af2f324",
   "metadata": {},
   "outputs": [
    {
     "name": "stdout",
     "output_type": "stream",
     "text": [
      "False\n",
      "False\n",
      "True\n"
     ]
    }
   ],
   "source": [
    "x = 1\n",
    "y = 23\n",
    "print(x > y)\n",
    "print(x == y)\n",
    "print(x <= y)"
   ]
  },
  {
   "cell_type": "markdown",
   "id": "71b44084",
   "metadata": {},
   "source": [
    "### Estructuras de control y programación básica\n",
    "\n",
    "Las estructuras de control nos van a permitir elegir la dinámica de nuestro código y que en cada momento se realice la operación que deseamos en función de como vaya evolucionando el flujo de la información.\n",
    "\n",
    "También nos van a ser muy útiles a la hora de trabajar con los datos, permitiendo relizar operaciones u otras en función de lo que nos interese.\n",
    "\n",
    "#### Estructuras Condicionales\n",
    "Las primeras estructuras que vamos a ver son las condicionales, con estas estructuras vamos a poder ejecutar distintos fragmentos de código e incluso scripts completos basándonos en algunas condiciones concretas.\n",
    "\n",
    "La estructura condicional más básica que existe es la siguiente:\n",
    "```\n",
    "    if <condicion lógica B>:\n",
    "        <fragmento de código 1>\n",
    "    elif <condición lógica A>:\n",
    "        <fragmento de código 2>\n",
    "    else:\n",
    "        <fragmento de código 3>\n",
    "```\n",
    "\n",
    "De la estructura anterior la única línea que es obligatoria es la primera en la que indicamos que se inicia un bloque condicional, si solo tenemos dos opciones `elif`no se incluye y disponemos de más se pueden añadir cuántos queramos.\n",
    "\n",
    "También pueden ser anidados y combinados con otras estructuras de control.\n",
    "\n",
    "Vamos a hacer un código que nos indique si de dos valores si el primero es mayor menor que el segundo.\n",
    "\n",
    "\n",
    "\n",
    "\n",
    "<div class=\"alert alert-info\"><strong>¡¡¡ OJO !!!</strong>\n",
    "    \n",
    "En Python los bloques de código se delimitan por sangrado pudiendo utilizar cuatro espacios o un tabulador.<br>\n",
    "Recuerda el Zen de Python.\n",
    "</div>"
   ]
  },
  {
   "cell_type": "code",
   "execution_count": 55,
   "id": "25a73a9e",
   "metadata": {},
   "outputs": [
    {
     "name": "stdout",
     "output_type": "stream",
     "text": [
      "X es mayor que Y.\n"
     ]
    }
   ],
   "source": [
    "x = 30\n",
    "y = 25\n",
    "if (x > y) or (x==y):\n",
    "    print('X es mayor que Y.')\n",
    "    \n",
    "elif x == y:\n",
    "    print('X es igual que Y.')\n",
    "\n",
    "else:\n",
    "    print('X es menor que Y.')"
   ]
  },
  {
   "cell_type": "code",
   "execution_count": 56,
   "id": "feb832f3",
   "metadata": {},
   "outputs": [
    {
     "data": {
      "text/plain": [
       "False"
      ]
     },
     "execution_count": 56,
     "metadata": {},
     "output_type": "execute_result"
    }
   ],
   "source": [
    "(x > y) and (x==y)"
   ]
  },
  {
   "cell_type": "code",
   "execution_count": 57,
   "id": "15b1b88f",
   "metadata": {},
   "outputs": [
    {
     "name": "stdout",
     "output_type": "stream",
     "text": [
      "Hola\n"
     ]
    }
   ],
   "source": [
    "if -100000:\n",
    "    print('Hola')"
   ]
  },
  {
   "cell_type": "markdown",
   "id": "258eea09",
   "metadata": {},
   "source": [
    "#### Bucles\n",
    "\n",
    "Los bucles nos van a permitir repetir operaciones un número determinado de veces. Se utilizan para tareas repetitivas en las que en cada iteración tenemos que realizar las mismas operaciones.\n",
    "\n",
    "##### Bucle For\n",
    "El blucle `for` nos permitirá realizar una operación tantas veces como elementos hayan en el cojunto que indiquemos.\n",
    "\n",
    "```\n",
    "for <elemento> in <objeto_iterable>:\n",
    "    <fragmento de código a ejecutar>\n",
    "\n",
    "```\n",
    "\n",
    "En el caso de este bucle también pueden ser anidados y mezclados con una estructura condicional.\n",
    "\n",
    "```\n",
    "for i in (1, 2, 3, 4, 5):\n",
    "    print(i)\n",
    "```\n",
    "\n",
    "¿cómo haríamos el bucle para los primeros 100 números?"
   ]
  },
  {
   "cell_type": "code",
   "execution_count": 58,
   "id": "1c3cbbca",
   "metadata": {},
   "outputs": [
    {
     "name": "stdout",
     "output_type": "stream",
     "text": [
      "1 4\n",
      "2 16\n",
      "3 256\n",
      "4 65536\n",
      "5 4294967296\n"
     ]
    }
   ],
   "source": [
    "x = 2\n",
    "for i in (1, 2, 3, 4, 5):\n",
    "    x = x**2\n",
    "    print(i, x)"
   ]
  },
  {
   "cell_type": "code",
   "execution_count": 59,
   "id": "ca8ae706",
   "metadata": {},
   "outputs": [
    {
     "name": "stdout",
     "output_type": "stream",
     "text": [
      "15\n",
      "16\n",
      "17\n",
      "18\n",
      "19\n"
     ]
    }
   ],
   "source": [
    "# Escribe aquí el bucle sobre los primeros 100 números.\n",
    "for lo_que_sea in range(15, 20):\n",
    "    print(lo_que_sea)"
   ]
  },
  {
   "cell_type": "code",
   "execution_count": 60,
   "id": "56ae032d",
   "metadata": {},
   "outputs": [
    {
     "name": "stdout",
     "output_type": "stream",
     "text": [
      "H\n",
      "o\n",
      "l\n",
      "a\n"
     ]
    }
   ],
   "source": [
    "for i in 'Hola':\n",
    "    print(i)"
   ]
  },
  {
   "cell_type": "code",
   "execution_count": 61,
   "id": "39a2c8a5",
   "metadata": {},
   "outputs": [
    {
     "data": {
      "text/plain": [
       "'a'"
      ]
     },
     "execution_count": 61,
     "metadata": {},
     "output_type": "execute_result"
    }
   ],
   "source": [
    "i"
   ]
  },
  {
   "cell_type": "code",
   "execution_count": 70,
   "id": "9e277546",
   "metadata": {},
   "outputs": [
    {
     "name": "stdout",
     "output_type": "stream",
     "text": [
      "Luis\n",
      "Amaya\n",
      "Juan\n",
      "Lucas\n",
      "Fabian\n"
     ]
    }
   ],
   "source": [
    "students = ['luis', 'amaya', 'juan', 'lucas', 'fabian']\n",
    "for nom in students:\n",
    "    print(nom.capitalize())"
   ]
  },
  {
   "cell_type": "code",
   "execution_count": 63,
   "id": "98d88b65",
   "metadata": {},
   "outputs": [
    {
     "data": {
      "text/plain": [
       "dict_items([('pepe', 36), ('maria', 23), ('olga', [43, 'XDFR']), ('paco', 23)])"
      ]
     },
     "execution_count": 63,
     "metadata": {},
     "output_type": "execute_result"
    }
   ],
   "source": [
    "diccionario.items()"
   ]
  },
  {
   "cell_type": "code",
   "execution_count": 64,
   "id": "2795d894",
   "metadata": {},
   "outputs": [
    {
     "name": "stdout",
     "output_type": "stream",
     "text": [
      "pepe  +  36\n",
      "maria  +  23\n",
      "olga  +  [43, 'XDFR']\n",
      "paco  +  23\n"
     ]
    }
   ],
   "source": [
    "iterable = diccionario.keys\n",
    "for k, v in diccionario.items():\n",
    "    print(k,' + ' ,v)"
   ]
  },
  {
   "cell_type": "code",
   "execution_count": 65,
   "id": "6fe184ce",
   "metadata": {},
   "outputs": [
    {
     "name": "stdout",
     "output_type": "stream",
     "text": [
      "36\n",
      "23\n",
      "[43, 'XDFR']\n",
      "23\n",
      "88888\n",
      "error\n"
     ]
    }
   ],
   "source": [
    "iterable = ['pepe', 'maria', 'olga', 'paco', 'lucia']\n",
    "for x in iterable:\n",
    "    y = diccionario.get(x,88888)\n",
    "    print(y)\n",
    "    if y == 88888:\n",
    "        print('error')\n",
    "    "
   ]
  },
  {
   "cell_type": "markdown",
   "id": "78d981ea",
   "metadata": {},
   "source": [
    "Como se ha indica en la estructura sirve para recorrer cualquier objeto iterable, lo que significa que podemos recorrer cualquier lista.\n",
    "```\n",
    "personas = ['luis', 'amaya', 'juan']\n",
    "for nombre in personas:\n",
    "    print(nombre.upper())\n",
    "```\n",
    "\n",
    "También los elementos de un diccionario, pruébalo.\n",
    "```\n",
    "diccionario = {'pepe':36, 'maria':23, 'olga':[43, 'XDFR']}\n",
    "```\n",
    "\n",
    "Python permite trabajar con varios indices a la vez (no confundir con dos bucles `for`anidados).\n",
    "```\n",
    "for k, v in diccionario.items():\n",
    "    print(k,' + ' ,v)\n",
    "```\n",
    "\n",
    "##### Bucle While\n",
    "\n",
    "El buble `while` también es una estructura repetitiva que nos va a permitir ejecutar el mismo fragmento de código mientras que se verifique una condición.\n",
    "```\n",
    "while <condición lógica>:\n",
    "    <fragmento de código>\n",
    "    break\n",
    "else:\n",
    "    <fragmento de código>\n",
    "```\n",
    "\n",
    "En este tipo de estructura hay que prestar especial atención a no generar bucles infinitos ya que si la condición lógica nunca se va a verificar el programa se ejecutará indefinidamente (hasta que se llene la memoria).\n",
    "\n",
    "Todo este tipo de estructuras pueden anidarse para conseguir un flujo y comportamiento de la información concreto."
   ]
  },
  {
   "cell_type": "code",
   "execution_count": null,
   "id": "72813641",
   "metadata": {},
   "outputs": [],
   "source": [
    "i = 0\n",
    "while i < 5:\n",
    "    i += 1\n",
    "    print(i)"
   ]
  },
  {
   "cell_type": "markdown",
   "id": "d86d97da",
   "metadata": {},
   "source": [
    "<div class=\"alert alert-success\"><b>Consejo:</b> \n",
    "    \n",
    "El operador <code>i += 1</code> es un operador en línea y es equivalente a `i = i + 1`. Aunque puede que con la versión en línea obtengamos mejoras en la velocidad de ejecución.\n",
    "    \n",
    "Otros operaciones en línea son `-=`, `*=` y `/=`.\n",
    "</div>"
   ]
  },
  {
   "cell_type": "markdown",
   "id": "632ef4ed",
   "metadata": {},
   "source": [
    "Hay ocasiones en las que la condición establecida en un bucle de este tipo depende de alguna operación matemática de la cual no sabemos cuántas iteraciones van a ser necesarias. En estos casos es usual añadir a dicha condición un número máximo de iteraciones a ejecutar.\n",
    "\n",
    "```\n",
    "x = 100\n",
    "iteracion = 0\n",
    "while (x >= 0.001) & (iteracion <= 10):\n",
    "    print('Iteración ' + str(iteracion))\n",
    "    x /= 2\n",
    "    iteracion += 1\n",
    "    print(x)\n",
    "```"
   ]
  },
  {
   "cell_type": "code",
   "execution_count": null,
   "id": "a9ee8440",
   "metadata": {},
   "outputs": [],
   "source": [
    "x = 100\n",
    "iteracion = 0\n",
    "while (x >= 0.001) & (iteracion <= 1000):\n",
    "    print('Iteración ' + str(iteracion))\n",
    "    x /= 2\n",
    "    iteracion += 1\n",
    "    print(x)"
   ]
  },
  {
   "cell_type": "markdown",
   "id": "225d5798",
   "metadata": {},
   "source": [
    "### Definición de funciones\n",
    "\n",
    "Como todo lenguaje de programación Python permite escribir nuestras propias funciones con las que realizar todo tipo de operaciones.\n",
    "\n",
    "Es usual utilizar las funciones cuando vamos a repetir el mismo proceso en varias ocasiones o para compartimental nuestro código.\n",
    "\n",
    "La definición de la función se realiza de la siguiente forma.\n",
    "```\n",
    "def (<argumento>):\n",
    "    \"\"\"doc_string\"\"\"\n",
    "    <código>\n",
    "    return(<objeto a devolver>)\n",
    "```\n",
    "\n",
    "El argumento serán los valores de entrada a la variable, `doc_string` es opcional pero recomendado que nos permitirá documentar las caractarísticas de la función, que será mostrada cuando hagamos uso de la función ayuda.\n",
    "\n",
    "Retomemos la comprobación que hemos realizado anteriormente, en la que indicábamos dos valores e imprimíamos un mensaje en funció de su magnitud.\n",
    "\n",
    "\n",
    "\n",
    "\n"
   ]
  },
  {
   "cell_type": "code",
   "execution_count": null,
   "id": "8d8e551d",
   "metadata": {},
   "outputs": [],
   "source": [
    "def compara_valores(x, y):\n",
    "    \"\"\"Función que compara dos valores\n",
    "        indicando cual es mayor o menor\"\"\"\n",
    "    if x > y:\n",
    "        print('El primero es mayor que el segundo.')\n",
    "    else:\n",
    "        print('El primero es menor que el segundo.')"
   ]
  },
  {
   "cell_type": "code",
   "execution_count": null,
   "id": "54a1e659",
   "metadata": {},
   "outputs": [],
   "source": [
    "compara_valores(1, 5)"
   ]
  }
 ],
 "metadata": {
  "kernelspec": {
   "display_name": "Python 3 (ipykernel)",
   "language": "python",
   "name": "python3"
  },
  "language_info": {
   "codemirror_mode": {
    "name": "ipython",
    "version": 3
   },
   "file_extension": ".py",
   "mimetype": "text/x-python",
   "name": "python",
   "nbconvert_exporter": "python",
   "pygments_lexer": "ipython3",
   "version": "3.12.0"
  }
 },
 "nbformat": 4,
 "nbformat_minor": 5
}
