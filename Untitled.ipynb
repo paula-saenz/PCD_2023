{
 "cells": [
  {
   "cell_type": "markdown",
   "id": "c9288f76-6194-487e-a353-5429466e5096",
   "metadata": {},
   "source": [
    "ejercicio: palindromo o no"
   ]
  },
  {
   "cell_type": "code",
   "execution_count": 9,
   "id": "5430940c-76ec-452d-acdb-a32815110d5c",
   "metadata": {},
   "outputs": [
    {
     "name": "stdin",
     "output_type": "stream",
     "text": [
      " paloma\n"
     ]
    }
   ],
   "source": [
    "palabra = input()"
   ]
  },
  {
   "cell_type": "code",
   "execution_count": 14,
   "id": "f6f49502-6c4c-40ee-85c1-e3506ba80d2f",
   "metadata": {},
   "outputs": [
    {
     "ename": "SyntaxError",
     "evalue": "unmatched ')' (3294163079.py, line 4)",
     "output_type": "error",
     "traceback": [
      "\u001b[1;36m  Cell \u001b[1;32mIn[14], line 4\u001b[1;36m\u001b[0m\n\u001b[1;33m    for j in range (len(palabra)/2)):\u001b[0m\n\u001b[1;37m                                   ^\u001b[0m\n\u001b[1;31mSyntaxError\u001b[0m\u001b[1;31m:\u001b[0m unmatched ')'\n"
     ]
    }
   ],
   "source": [
    "palabra = input()\n",
    "for i in range (len(palabra)):\n",
    "    print(palabra[i])\n",
    "    for j in range (len(palabra)/2)):\n",
    "        if (palabra[j] == palabra[len(palabra)-1-j]):\n",
    "            print(\"es palindromo\")"
   ]
  },
  {
   "cell_type": "code",
   "execution_count": null,
   "id": "a0126a42-c2ca-464c-91dd-15cadc58d2f7",
   "metadata": {},
   "outputs": [],
   "source": []
  }
 ],
 "metadata": {
  "kernelspec": {
   "display_name": "Python 3 (ipykernel)",
   "language": "python",
   "name": "python3"
  },
  "language_info": {
   "codemirror_mode": {
    "name": "ipython",
    "version": 3
   },
   "file_extension": ".py",
   "mimetype": "text/x-python",
   "name": "python",
   "nbconvert_exporter": "python",
   "pygments_lexer": "ipython3",
   "version": "3.12.0"
  }
 },
 "nbformat": 4,
 "nbformat_minor": 5
}
